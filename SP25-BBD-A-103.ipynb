{
 "cells": [
  {
   "cell_type": "markdown",
   "id": "9f8860aa-772f-45a2-83c1-c6e1f046f581",
   "metadata": {},
   "source": [
    "# Muhammad Talha Yaser"
   ]
  },
  {
   "cell_type": "markdown",
   "id": "5c091bff-1bb4-4b7d-940e-a81b507ba91a",
   "metadata": {},
   "source": [
    "# Question 1"
   ]
  },
  {
   "cell_type": "code",
   "execution_count": 81,
   "id": "38135677-68be-43c0-b675-d90bb21fb27e",
   "metadata": {},
   "outputs": [
    {
     "name": "stdout",
     "output_type": "stream",
     "text": [
      "Hello, python learner.\n"
     ]
    }
   ],
   "source": [
    "def say_hello():\n",
    "    print(f\"Hello, python learner.\")\n",
    "say_hello()"
   ]
  },
  {
   "cell_type": "markdown",
   "id": "2cc1af80-476a-48ea-a708-939c92dc8f25",
   "metadata": {},
   "source": [
    "# Question 2"
   ]
  },
  {
   "cell_type": "code",
   "execution_count": 89,
   "id": "70b1ce51-117e-42ae-97d8-c19c06ccb911",
   "metadata": {},
   "outputs": [
    {
     "name": "stdout",
     "output_type": "stream",
     "text": [
      "Hello,Talha.\n"
     ]
    }
   ],
   "source": [
    "def greet_user(name):\n",
    "    print(f\"Hello,{name}.\")\n",
    "    \n",
    "greet_user('Talha')"
   ]
  },
  {
   "cell_type": "markdown",
   "id": "7f97f691-13cf-490e-b4d6-4d258fda3cf9",
   "metadata": {},
   "source": [
    "# Question 3"
   ]
  },
  {
   "cell_type": "code",
   "execution_count": 171,
   "id": "ba28f707-291f-4503-92f9-9500aa2d33ff",
   "metadata": {},
   "outputs": [
    {
     "name": "stdout",
     "output_type": "stream",
     "text": [
      "\n",
      "I have a dog.\n",
      "My dog's name is Aldo.\n"
     ]
    }
   ],
   "source": [
    "def describe_pet(animal_type, pet_name):\n",
    "    print(f\"\\nI have a {animal_type}.\")\n",
    "    print(f\"My {animal_type}'s name is {pet_name}.\")\n",
    "    \n",
    "describe_pet('dog', 'Aldo')\n"
   ]
  },
  {
   "cell_type": "markdown",
   "id": "a5de93c5-2df8-444c-abf1-8691e5f10aed",
   "metadata": {},
   "source": [
    "# Question 4"
   ]
  },
  {
   "cell_type": "code",
   "execution_count": 173,
   "id": "82eff5a1-e79a-47ff-9ebb-f1af2fd2941c",
   "metadata": {},
   "outputs": [
    {
     "name": "stdout",
     "output_type": "stream",
     "text": [
      "\n",
      "I have a dog.\n",
      "My dog's name is Aldo.\n",
      "\n",
      "I have a cat.\n",
      "My cat's name is Leo.\n"
     ]
    }
   ],
   "source": [
    "def describe_pet(animal_type, pet_name):\n",
    "    print(f\"\\nI have a {animal_type}.\")\n",
    "    print(f\"My {animal_type}'s name is {pet_name}.\")\n",
    "\n",
    "describe_pet('dog', 'Aldo')\n",
    "describe_pet(animal_type='cat', pet_name='Leo')"
   ]
  },
  {
   "cell_type": "markdown",
   "id": "3ec795b3-5056-4e06-a816-ee51eec8f0e7",
   "metadata": {},
   "source": [
    "# Question 5"
   ]
  },
  {
   "cell_type": "code",
   "execution_count": 120,
   "id": "3b8153b7-13f6-45ef-9761-bdfd600c5a2b",
   "metadata": {},
   "outputs": [
    {
     "name": "stdout",
     "output_type": "stream",
     "text": [
      "Muhammad Talha\n"
     ]
    }
   ],
   "source": [
    "def get_formatted_name(first, last):\n",
    "    full_name = f\"{first} {last}\"\n",
    "    return full_name.title()\n",
    "\n",
    "formatted_name = get_formatted_name('Muhammad', 'Talha')\n",
    "print(formatted_name)"
   ]
  },
  {
   "cell_type": "markdown",
   "id": "2bc7b283-1524-4c5d-8335-50da7a093c5d",
   "metadata": {},
   "source": [
    "# Question 6"
   ]
  },
  {
   "cell_type": "code",
   "execution_count": 139,
   "id": "8b0676a6-aa1a-4775-9c12-7eeee07b0822",
   "metadata": {},
   "outputs": [
    {
     "name": "stdout",
     "output_type": "stream",
     "text": [
      "Qazi Anwar Ahmad\n",
      "Qazi Ahamd\n"
     ]
    }
   ],
   "source": [
    "def get_formatted_name(first, last, middel=''):\n",
    "    if middel:\n",
    "        full_name = f\"{first} {middel} {last}\"\n",
    "    else:\n",
    "        full_name=f\"{first} {last}\"\n",
    " \n",
    "    return full_name.title()\n",
    "name_with_middle = get_formatted_name('Qazi', 'Ahmad', 'Anwar')\n",
    "print(name_with_middle) \n",
    "name_with_middle = get_formatted_name('Qazi', 'Ahamd', )\n",
    "print(name_with_middle)    "
   ]
  },
  {
   "cell_type": "markdown",
   "id": "da962f68-9633-498d-88ca-8371d93deb02",
   "metadata": {},
   "source": [
    "# question 7"
   ]
  },
  {
   "cell_type": "code",
   "execution_count": 149,
   "id": "874bf5f8-534e-4e6c-bb13-2970af18a7b8",
   "metadata": {},
   "outputs": [
    {
     "name": "stdout",
     "output_type": "stream",
     "text": [
      "{'first_name': 'david', 'last_name': 'mark'}\n"
     ]
    }
   ],
   "source": [
    "def build_person(first, last, age=None):\n",
    "    person = {\n",
    "        'first_name': first,\n",
    "        'last_name': last\n",
    "    }\n",
    "    if age:\n",
    "        person['age'] = age\n",
    "    return person\n",
    "\n",
    "person=build_person('david','mark')\n",
    "print(person)"
   ]
  },
  {
   "cell_type": "markdown",
   "id": "e6384242-7108-46e8-856a-ae05765c9391",
   "metadata": {},
   "source": [
    "# Question 8"
   ]
  },
  {
   "cell_type": "code",
   "execution_count": 152,
   "id": "3bf40624-1fd5-4998-a722-f64c14c229e4",
   "metadata": {},
   "outputs": [
    {
     "name": "stdout",
     "output_type": "stream",
     "text": [
      "Hello, Abdullah!\n",
      "Hello, Qazi!\n",
      "Hello, ahmed!\n"
     ]
    }
   ],
   "source": [
    "def greet_users(usernames):\n",
    "    for username in usernames:\n",
    "        print(f\"Hello, {username}!\")\n",
    "\n",
    "usernames = ['Abdullah','Qazi','ahmed']\n",
    "greet_users(usernames)"
   ]
  },
  {
   "cell_type": "markdown",
   "id": "9b5e2ce0-f784-4a33-9c1c-a0bf70321fe5",
   "metadata": {},
   "source": [
    "# Question 9"
   ]
  },
  {
   "cell_type": "code",
   "execution_count": 162,
   "id": "85faac34-27a9-4ba5-9821-7849da0878e8",
   "metadata": {},
   "outputs": [
    {
     "name": "stdout",
     "output_type": "stream",
     "text": [
      "Making a pizza with the following toppings:\n",
      "- onions\n",
      "- mushrooms\n",
      "- green peppers\n",
      "- cheese\n"
     ]
    }
   ],
   "source": [
    "def make_pizza(*toppings):\n",
    "    print(\"Making a pizza with the following toppings:\")\n",
    "    for topping in toppings:\n",
    "        print(f\"- {topping}\")\n",
    "\n",
    "make_pizza('onions', 'mushrooms','green peppers', 'cheese')"
   ]
  },
  {
   "cell_type": "markdown",
   "id": "c46e16ee-8350-4abc-90c8-b5a760c882cd",
   "metadata": {},
   "source": [
    "# Question 10"
   ]
  },
  {
   "cell_type": "code",
   "execution_count": 167,
   "id": "7db23194-79c6-4652-becc-998805702681",
   "metadata": {},
   "outputs": [
    {
     "name": "stdout",
     "output_type": "stream",
     "text": [
      "{'first_name': 'Muhammd', 'last_name': 'Talha', 'age': 20, 'location': 'Lahore', 'occupation': 'Analyist'}\n"
     ]
    }
   ],
   "source": [
    " def build_profile(first, last, **info):\n",
    "    profile = {\n",
    "        'first_name': first,\n",
    "        'last_name': last\n",
    "    }\n",
    "    for key, value in info.items():\n",
    "        profile[key] = value\n",
    "    return profile\n",
    "user_profile = build_profile('Muhammd', 'Talha', age=20, location='Lahore', occupation='Analyist')\n",
    "print(user_profile)\n"
   ]
  },
  {
   "cell_type": "code",
   "execution_count": null,
   "id": "feb34b51-024f-4e08-a8e5-5451c890f66e",
   "metadata": {},
   "outputs": [],
   "source": []
  }
 ],
 "metadata": {
  "kernelspec": {
   "display_name": "Python 3 (ipykernel)",
   "language": "python",
   "name": "python3"
  },
  "language_info": {
   "codemirror_mode": {
    "name": "ipython",
    "version": 3
   },
   "file_extension": ".py",
   "mimetype": "text/x-python",
   "name": "python",
   "nbconvert_exporter": "python",
   "pygments_lexer": "ipython3",
   "version": "3.12.4"
  }
 },
 "nbformat": 4,
 "nbformat_minor": 5
}
